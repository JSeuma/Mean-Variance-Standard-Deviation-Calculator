{
 "cells": [
  {
   "cell_type": "code",
   "execution_count": 1,
   "id": "151d3650",
   "metadata": {},
   "outputs": [],
   "source": [
    "#This piece of code provides several stadistic results of a 3x3 matrix created from 9 digits that you have to introduce as CALCULATE\n",
    "\n",
    "import numpy as np\n",
    "\n",
    "def calculate(variable):\n",
    "    \n",
    "    if len(variable) == 9:\n",
    "      \n",
    "        ma = np.array(variable)\n",
    "\n",
    "        mat = ma.reshape(3,3)\n",
    "\n",
    "\n",
    "        mr = np.mean(mat,axis=0)\n",
    "        mc = mat.mean(axis=1)\n",
    "        mt = mat.mean()\n",
    "\n",
    "        varr = mat.var(axis=0)\n",
    "        varc = mat.var(axis=1)\n",
    "        vart = mat.var()\n",
    "\n",
    "        stdr1 = mat.std(axis=0)\n",
    "        stdr=np.round(stdr1,decimals=1)\n",
    "        stdc1 = mat.std(axis=1)\n",
    "        stdc=np.round(stdc1,decimals=1)\n",
    "        stdt1 = mat.std()\n",
    "        stdt=np.round(stdt1,decimals=1)\n",
    "\n",
    "        vmaxr = mat.max(axis=0)\n",
    "        vmaxc = mat.max(axis=1)\n",
    "        vmaxt = mat.max()\n",
    "\n",
    "        vminr = mat.min(axis=0)\n",
    "        vminc = mat.min(axis=1) \n",
    "        vmint = mat.min()\n",
    "\n",
    "        sumr= mat.sum(axis=0)\n",
    "        sumc= mat.sum(axis=1)\n",
    "        sumt= mat.sum()\n",
    "\n",
    "        stats= {\"mean\":[mr.tolist(),mc.tolist(),mt],\"variance\":[varr.tolist(),varc.tolist(),vart],\"standard deviation\":[stdr.tolist(),stdc.tolist(),stdt], \"max\":[vmaxr.tolist(), vmaxc.tolist(), vmaxt], \"min\":[vminr.tolist(), vminc.tolist(), vmint],\"sum\":[sumr.tolist(), sumc.tolist(), sumt]}\n",
    "\n",
    "        return stats\n",
    "\n",
    "    else:\n",
    "        raise ValueError(\"List must contain nine numbers.\")"
   ]
  },
  {
   "cell_type": "code",
   "execution_count": 2,
   "id": "bc8b3e75",
   "metadata": {},
   "outputs": [
    {
     "data": {
      "text/plain": [
       "{'mean': [[4.0, 5.0, 6.0], [2.0, 5.0, 8.0], 5.0],\n",
       " 'variance': [[6.0, 6.0, 6.0],\n",
       "  [0.6666666666666666, 0.6666666666666666, 0.6666666666666666],\n",
       "  6.666666666666667],\n",
       " 'standard deviation': [[2.4, 2.4, 2.4], [0.8, 0.8, 0.8], 2.6],\n",
       " 'max': [[7, 8, 9], [3, 6, 9], 9],\n",
       " 'min': [[1, 2, 3], [1, 4, 7], 1],\n",
       " 'sum': [[12, 15, 18], [6, 15, 24], 45]}"
      ]
     },
     "execution_count": 2,
     "metadata": {},
     "output_type": "execute_result"
    }
   ],
   "source": [
    "calculate([1,2,3,4,5,6,7,8,9])"
   ]
  }
 ],
 "metadata": {
  "kernelspec": {
   "display_name": "Python 3.9.12 ('base')",
   "language": "python",
   "name": "python3"
  },
  "language_info": {
   "codemirror_mode": {
    "name": "ipython",
    "version": 3
   },
   "file_extension": ".py",
   "mimetype": "text/x-python",
   "name": "python",
   "nbconvert_exporter": "python",
   "pygments_lexer": "ipython3",
   "version": "3.9.12"
  },
  "vscode": {
   "interpreter": {
    "hash": "1fccd5222ae4244aee9af3a88e24203256acff570cd283d75a48e84be373b0be"
   }
  }
 },
 "nbformat": 4,
 "nbformat_minor": 5
}
